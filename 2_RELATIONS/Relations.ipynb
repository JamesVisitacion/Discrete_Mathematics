{
  "nbformat": 4,
  "nbformat_minor": 0,
  "metadata": {
    "colab": {
      "provenance": [],
      "toc_visible": true
    },
    "kernelspec": {
      "name": "python3",
      "display_name": "Python 3"
    },
    "language_info": {
      "name": "python"
    }
  },
  "cells": [
    {
      "cell_type": "code",
      "source": [
        "#Defining reflexive, symmetric and transitive relations\n",
        "def reflexive(R,A):\n",
        "  for a in A:\n",
        "    if (a,a) not in R:\n",
        "      return False\n",
        "  return True\n",
        "\n",
        "def symmetric(R):\n",
        "    for a,b in R:\n",
        "        if (b, a) not in R:\n",
        "            return False\n",
        "    return True\n",
        "\n",
        "def transitive(R):\n",
        "    for a,b in R:\n",
        "        for c,d in R:\n",
        "            if b==c and (a,d) not in R:\n",
        "                return False\n",
        "    return True\n"
      ],
      "metadata": {
        "id": "fLrR79mrReAL"
      },
      "execution_count": 406,
      "outputs": []
    },
    {
      "cell_type": "markdown",
      "source": [
        "#1st Problem\n",
        "\n",
        "---\n",
        "\n"
      ],
      "metadata": {
        "id": "AY6rg-y7cKzf"
      }
    },
    {
      "cell_type": "code",
      "source": [
        "#Given:\n",
        "A = {1,2,3,4}\n",
        "B = {'x','y','z'}\n",
        "R = {(1,'y'), (1,'z'), (3,'y'), (4,'x'), (4,'z')}\n",
        "\n",
        "AxB = {(x0,y0) for x0 in A for y0 in B}\n",
        "\n",
        "print(\"AxB = \", sorted(AxB))\n",
        "print(\"\")\n",
        "if R.issubset(AxB):\n",
        "  print(\"R is a relation from A to B.\")"
      ],
      "metadata": {
        "colab": {
          "base_uri": "https://localhost:8080/"
        },
        "id": "_ZVWi0CuGO2F",
        "outputId": "75c006b1-2ab1-4ee6-c34e-6e47a75cc611"
      },
      "execution_count": 407,
      "outputs": [
        {
          "output_type": "stream",
          "name": "stdout",
          "text": [
            "AxB =  [(1, 'x'), (1, 'y'), (1, 'z'), (2, 'x'), (2, 'y'), (2, 'z'), (3, 'x'), (3, 'y'), (3, 'z'), (4, 'x'), (4, 'y'), (4, 'z')]\n",
            "\n",
            "R is a relation from A to B.\n"
          ]
        }
      ]
    },
    {
      "cell_type": "code",
      "source": [
        "#Finding aRb\n",
        "R = {(1,'y'), (1,'z'), (3,'y'), (4,'x'), (4,'z')}\n",
        "\n",
        "print(\"With respect to the relation R:\")\n",
        "for (a,b) in R:\n",
        "    print(a,'R',b)"
      ],
      "metadata": {
        "colab": {
          "base_uri": "https://localhost:8080/"
        },
        "id": "SHrtmM4eAybq",
        "outputId": "50c4ec34-cc06-4a19-dd16-7c7951c2be6f"
      },
      "execution_count": 408,
      "outputs": [
        {
          "output_type": "stream",
          "name": "stdout",
          "text": [
            "With respect to the relation R:\n",
            "1 R y\n",
            "4 R x\n",
            "4 R z\n",
            "3 R y\n",
            "1 R z\n"
          ]
        }
      ]
    },
    {
      "cell_type": "code",
      "source": [
        "#Finding the inverse relation\n",
        "R = {(1,'y'), (1,'z'), (3,'y'), (4,'x'), (4,'z')}\n",
        "\n",
        "x=[]\n",
        "for a,b in R:\n",
        "  x.append((b,a))\n",
        "print(\"The inverse of relation R is\",x)"
      ],
      "metadata": {
        "colab": {
          "base_uri": "https://localhost:8080/"
        },
        "id": "YBNLtA1LI8bz",
        "outputId": "bdb4e233-f289-45fa-f651-2285a2ced974"
      },
      "execution_count": 409,
      "outputs": [
        {
          "output_type": "stream",
          "name": "stdout",
          "text": [
            "The inverse of relation R is [('y', 1), ('x', 4), ('z', 4), ('y', 3), ('z', 1)]\n"
          ]
        }
      ]
    },
    {
      "cell_type": "code",
      "source": [
        "#Domain and range of R\n",
        "R = {(1,'y'), (1,'z'), (3,'y'), (4,'x'), (4,'z')}\n",
        "\n",
        "x = []\n",
        "y = []\n",
        "for a,b in R:\n",
        "  if a not in x:\n",
        "    x.append(a)\n",
        "  if b not in y:\n",
        "    y.append(b)\n",
        "print(\"The domain of R is\", sorted(x))\n",
        "print(\"The range of R is\", sorted(y))"
      ],
      "metadata": {
        "colab": {
          "base_uri": "https://localhost:8080/"
        },
        "id": "17XaOtztJ5aK",
        "outputId": "533ac7b2-6548-408a-b47e-700e2e9ceffb"
      },
      "execution_count": 410,
      "outputs": [
        {
          "output_type": "stream",
          "name": "stdout",
          "text": [
            "The domain of R is [1, 3, 4]\n",
            "The range of R is ['x', 'y', 'z']\n"
          ]
        }
      ]
    },
    {
      "cell_type": "markdown",
      "source": [
        "**Determining if R is reflexive:**\n",
        "\n",
        "If $A = \\{1, 2, 3, 4\\}$, then $\\{a,a\\} = \\{(1,1), (2,2), (3,3), (4,4)\\} ∈ R$ for $R$ to be reflexive. However, since $\\{a,a\\} ∉ R$, therefore $R$ is not reflexive.\n",
        "\n",
        "**Determining if R is symmetric:**\n",
        "\n",
        "$R$ is symmetric on set $A$ if $\\{a,b\\} ∈ R$, then $\\{b,a\\} ∈ R$. Since $\\{a,b\\} ∈ R$, but $\\{b,a\\} ∉ R$, therefore $R$ is anti-symmetric.\n",
        "\n"
      ],
      "metadata": {
        "id": "iZu3zfqC6GwZ"
      }
    },
    {
      "cell_type": "code",
      "source": [
        "#Determining if R is reflexive and symmetric\n",
        "R = {(1,'y'), (1,'z'), (3,'y'), (4,'x'), (4,'z')}\n",
        "\n",
        "if reflexive(R,A) is True:\n",
        "  print(\"R R is reflexive.\")\n",
        "else:\n",
        "  print(\"R is not reflexive.\")\n",
        "\n",
        "if symmetric(R) is True:\n",
        "  print(\"R is symmetric.\")\n",
        "else:\n",
        "  print(\"R is anti-symmetric.\")\n"
      ],
      "metadata": {
        "colab": {
          "base_uri": "https://localhost:8080/"
        },
        "id": "GxNYHbdQUEnT",
        "outputId": "10bea830-212c-4f7d-d739-431ee3dbec39"
      },
      "execution_count": 411,
      "outputs": [
        {
          "output_type": "stream",
          "name": "stdout",
          "text": [
            "R is not reflexive.\n",
            "R is anti-symmetric.\n"
          ]
        }
      ]
    },
    {
      "cell_type": "markdown",
      "source": [
        "#2nd Problem\n",
        "\n",
        "---\n",
        "\n"
      ],
      "metadata": {
        "id": "ApfpC8_hcrI9"
      }
    },
    {
      "cell_type": "code",
      "source": [
        "#Given:\n",
        "A = {1,2,3,4}\n",
        "B = {'a','b','c'}\n",
        "C = {'x','y','z'}\n",
        "R = {(1,'b'), (2,'a'), (2,'c')}\n",
        "S = {('a','y'), ('b','x'), ('c','y'),('c','z')}\n",
        "\n",
        "AxB = {(x0,y0) for x0 in A for y0 in B}\n",
        "BxC = {(x0,y0) for x0 in B for y0 in C}\n",
        "\n",
        "print(\"AxB = \", sorted(AxB))\n",
        "print(\"BxC = \", sorted(BxC))\n",
        "print(\"\")\n",
        "if R.issubset(AxB):\n",
        "  print(\"R is a relation from A to B.\")\n",
        "if S.issubset(BxC):\n",
        "  print(\"S is a relation from B to C.\")"
      ],
      "metadata": {
        "colab": {
          "base_uri": "https://localhost:8080/"
        },
        "id": "6uJSCbTcIPA4",
        "outputId": "5b1123b0-5d2f-4776-a17d-842fca316c4c"
      },
      "execution_count": 412,
      "outputs": [
        {
          "output_type": "stream",
          "name": "stdout",
          "text": [
            "AxB =  [(1, 'a'), (1, 'b'), (1, 'c'), (2, 'a'), (2, 'b'), (2, 'c'), (3, 'a'), (3, 'b'), (3, 'c'), (4, 'a'), (4, 'b'), (4, 'c')]\n",
            "BxC =  [('a', 'x'), ('a', 'y'), ('a', 'z'), ('b', 'x'), ('b', 'y'), ('b', 'z'), ('c', 'x'), ('c', 'y'), ('c', 'z')]\n",
            "\n",
            "R is a relation from A to B.\n",
            "S is a relation from B to C.\n"
          ]
        }
      ]
    },
    {
      "cell_type": "code",
      "source": [
        "#Finding RoS\n",
        "R = {(1,'b'), (2,'a'), (2,'c')}\n",
        "S = {('a','y'), ('b','x'), ('c','y'),('c','z')}\n",
        "\n",
        "RoS = []\n",
        "for a,b in R:\n",
        "  for c,d in S:\n",
        "    if b==c and (a,d) not in RoS:\n",
        "      RoS.append((a,d))\n",
        "print(\"RoS = \",RoS)\n"
      ],
      "metadata": {
        "colab": {
          "base_uri": "https://localhost:8080/"
        },
        "id": "NAMIJ7Sec5rd",
        "outputId": "9b7b6122-081d-4f50-a872-b4e39aa7e109"
      },
      "execution_count": 413,
      "outputs": [
        {
          "output_type": "stream",
          "name": "stdout",
          "text": [
            "RoS =  [(2, 'y'), (1, 'x'), (2, 'z')]\n"
          ]
        }
      ]
    },
    {
      "cell_type": "code",
      "source": [
        "#Finding the inverse of relation R\n",
        "R = {(1,'b'), (2,'a'), (2,'c')}\n",
        "\n",
        "x=[]\n",
        "for a,b in R:\n",
        "  x.append((b,a))\n",
        "print(\"The inverse of relation R is\",x)"
      ],
      "metadata": {
        "colab": {
          "base_uri": "https://localhost:8080/"
        },
        "id": "qL6tJV18kGVH",
        "outputId": "1fe2dc69-cec6-4053-9d72-aea375319f2c"
      },
      "execution_count": 414,
      "outputs": [
        {
          "output_type": "stream",
          "name": "stdout",
          "text": [
            "The inverse of relation R is [('a', 2), ('b', 1), ('c', 2)]\n"
          ]
        }
      ]
    },
    {
      "cell_type": "code",
      "source": [
        "#Finding the inverse of relation S\n",
        "S = {('a','y'), ('b','x'), ('c','y'),('c','z')}\n",
        "\n",
        "x=[]\n",
        "for a,b in S:\n",
        "  x.append((b,a))\n",
        "print(\"The inverse of relation S is\",x)"
      ],
      "metadata": {
        "colab": {
          "base_uri": "https://localhost:8080/"
        },
        "id": "arO2HpTKkPxb",
        "outputId": "95c422db-247a-4364-9657-7331ac7682ce"
      },
      "execution_count": 415,
      "outputs": [
        {
          "output_type": "stream",
          "name": "stdout",
          "text": [
            "The inverse of relation S is [('y', 'a'), ('x', 'b'), ('y', 'c'), ('z', 'c')]\n"
          ]
        }
      ]
    },
    {
      "cell_type": "code",
      "source": [
        "#Domain and range of R\n",
        "R = {(1,'b'), (2,'a'), (2,'c')}\n",
        "\n",
        "x = []\n",
        "y = []\n",
        "for a,b in R:\n",
        "  if a not in x:\n",
        "    x.append(a)\n",
        "  if b not in y:\n",
        "    y.append(b)\n",
        "print(\"The domain of R is\", sorted(x))\n",
        "print(\"The range of R is\", sorted(y))"
      ],
      "metadata": {
        "colab": {
          "base_uri": "https://localhost:8080/"
        },
        "id": "NBH0Cflml3S_",
        "outputId": "7fc42f1b-a1c9-4e42-a87c-b4b97823e179"
      },
      "execution_count": 416,
      "outputs": [
        {
          "output_type": "stream",
          "name": "stdout",
          "text": [
            "The domain of R is [1, 2]\n",
            "The range of R is ['a', 'b', 'c']\n"
          ]
        }
      ]
    },
    {
      "cell_type": "markdown",
      "source": [
        "**Determining if R is reflexive:**\n",
        "\n",
        "If $A = \\{1, 2, 3, 4\\}$, then $\\{a,a\\} = \\{(1,1), (2,2), (3,3), (4,4)\\} ∈ R$ for $R$ to be reflexive. However, since $\\{a,a\\} ∉ R$, therefore $R$ is not reflexive.\n",
        "\n",
        "**Determining if R is symmetric:**\n",
        "\n",
        "$R$ is symmetric on set $A$ if $\\{a,b\\} ∈ R$, then $\\{b,a\\} ∈ R$. Since $\\{a,b\\} ∈ R$, but $\\{b,a\\} ∉ R$, therefore $R$ is anti-symmetric."
      ],
      "metadata": {
        "id": "nAB1P9L9K2ln"
      }
    },
    {
      "cell_type": "code",
      "source": [
        "#Determining if R is reflexive and symmetric\n",
        "R = [(1,'b'), (2,'a'), (2,'c')]\n",
        "\n",
        "if reflexive(R,A) is True:\n",
        "  print(\"R is reflexive.\")\n",
        "else:\n",
        "  print(\"R is not reflexive.\")\n",
        "\n",
        "if symmetric(R) is True:\n",
        "  print(\"R is symmetric.\")\n",
        "else:\n",
        "  print(\"R is anti-symmetric.\")"
      ],
      "metadata": {
        "colab": {
          "base_uri": "https://localhost:8080/"
        },
        "id": "eK3Z2R_mkvmT",
        "outputId": "12938b81-fb48-4377-d020-b39913a31da3"
      },
      "execution_count": 417,
      "outputs": [
        {
          "output_type": "stream",
          "name": "stdout",
          "text": [
            "R is not reflexive.\n",
            "R is anti-symmetric.\n"
          ]
        }
      ]
    },
    {
      "cell_type": "code",
      "source": [
        "#Domain and range of S\n",
        "S = {('a','y'), ('b','x'), ('c','y'),('c','z')}\n",
        "\n",
        "x = []\n",
        "y = []\n",
        "for a,b in S:\n",
        "  if a not in x:\n",
        "    x.append(a)\n",
        "  if b not in y:\n",
        "    y.append(b)\n",
        "print(\"The domain of S is\", sorted(x))\n",
        "print(\"The range of S is\", sorted(y))"
      ],
      "metadata": {
        "colab": {
          "base_uri": "https://localhost:8080/"
        },
        "id": "Jf4KGeXHmAPX",
        "outputId": "6348f6ba-75cf-429e-9ce0-cc7da41a5f88"
      },
      "execution_count": 418,
      "outputs": [
        {
          "output_type": "stream",
          "name": "stdout",
          "text": [
            "The domain of S is ['a', 'b', 'c']\n",
            "The range of S is ['x', 'y', 'z']\n"
          ]
        }
      ]
    },
    {
      "cell_type": "markdown",
      "source": [
        "**Determining if S is reflexive:**\n",
        "\n",
        "If $B = \\{'a', 'b', 'c'\\}$, then $\\{a,a\\} = \\{('a','a'), ('b','b'), ('c','c')\\} ∈ S$ for $S$ to be reflexive. However, since $\\{a,a\\} ∉ S$, therefore $S$ is not reflexive.\n",
        "\n",
        "**Determining if S is symmetric:**\n",
        "\n",
        "$S$ is symmetric on set $A$ if $\\{a,b\\} ∈ S$, then $\\{b,a\\} ∈ S$. Since $\\{a,b\\} ∈ S$, but $\\{b,a\\} ∉ R$, therefore $S$ is anti-symmetric.\n"
      ],
      "metadata": {
        "id": "iOkZqE-sLyU8"
      }
    },
    {
      "cell_type": "code",
      "source": [
        "#Determining if S is reflexive\n",
        "S = {('a','y'), ('b','x'), ('c','y'),('c','z')}\n",
        "\n",
        "if reflexive(S,A) is True:\n",
        "  print(\"S is reflexive.\")\n",
        "else:\n",
        "  print(\"S is not reflexive.\")\n",
        "\n",
        "if symmetric(S) is True:\n",
        "  print(\"S is symmetric.\")\n",
        "else:\n",
        "  print(\"S is anti-symmetric.\")"
      ],
      "metadata": {
        "colab": {
          "base_uri": "https://localhost:8080/"
        },
        "id": "TEhyvxXjlbmF",
        "outputId": "26e3d254-40ac-4f92-d579-ccce04549d97"
      },
      "execution_count": 419,
      "outputs": [
        {
          "output_type": "stream",
          "name": "stdout",
          "text": [
            "S is not reflexive.\n",
            "S is anti-symmetric.\n"
          ]
        }
      ]
    },
    {
      "cell_type": "markdown",
      "source": [
        "#3rd Problem\n",
        "\n",
        "---\n",
        "\n"
      ],
      "metadata": {
        "id": "bBqaNtc3mgTK"
      }
    },
    {
      "cell_type": "code",
      "source": [
        "#Finding RoR\n",
        "R = {(1,1), (2,2), (2,3), (3,2), (4,2), (4,4)}\n",
        "\n",
        "RoR = []\n",
        "for a,b in R:\n",
        "  for c,d in R:\n",
        "    if b==c:\n",
        "      if (a,d) not in RoR:\n",
        "        RoR.append((a,d))\n",
        "print(\"RoR = \",RoR)"
      ],
      "metadata": {
        "colab": {
          "base_uri": "https://localhost:8080/"
        },
        "id": "TV46HavzoCY0",
        "outputId": "606f0ee2-cef3-4d38-85e8-962fea02b472"
      },
      "execution_count": 420,
      "outputs": [
        {
          "output_type": "stream",
          "name": "stdout",
          "text": [
            "RoR =  [(4, 4), (4, 2), (2, 2), (2, 3), (1, 1), (3, 3), (3, 2), (4, 3)]\n"
          ]
        }
      ]
    },
    {
      "cell_type": "code",
      "source": [
        "#Direct graph of R\n",
        "R = {(1,1), (2,2), (2,3), (3,2), (4,2), (4,4)}\n",
        "\n",
        "import networkx as nx\n",
        "G = nx.MultiDiGraph()\n",
        "\n",
        "G.add_edge('Origin','1')\n",
        "G.add_edge('Origin','4')\n",
        "for a,b in R:\n",
        "  G.add_edge(a,b)\n",
        "from networkx.drawing import nx_pydot\n",
        "from graphviz import Source\n",
        "\n",
        "nx_pydot.write_dot(G, 'multig.dot')\n",
        "Source.from_file('multig.dot')"
      ],
      "metadata": {
        "colab": {
          "base_uri": "https://localhost:8080/",
          "height": 369
        },
        "id": "CJfdmcTKtFun",
        "outputId": "c0e42c02-086a-4a52-9898-144993c3aedd"
      },
      "execution_count": 421,
      "outputs": [
        {
          "output_type": "execute_result",
          "data": {
            "image/svg+xml": "<?xml version=\"1.0\" encoding=\"UTF-8\" standalone=\"no\"?>\n<!DOCTYPE svg PUBLIC \"-//W3C//DTD SVG 1.1//EN\"\n \"http://www.w3.org/Graphics/SVG/1.1/DTD/svg11.dtd\">\n<!-- Generated by graphviz version 2.43.0 (0)\n -->\n<!-- Title: %3 Pages: 1 -->\n<svg width=\"170pt\" height=\"260pt\"\n viewBox=\"0.00 0.00 170.00 260.00\" xmlns=\"http://www.w3.org/2000/svg\" xmlns:xlink=\"http://www.w3.org/1999/xlink\">\n<g id=\"graph0\" class=\"graph\" transform=\"scale(1 1) rotate(0) translate(4 256)\">\n<title>%3</title>\n<polygon fill=\"white\" stroke=\"transparent\" points=\"-4,4 -4,-256 166,-256 166,4 -4,4\"/>\n<!-- Origin -->\n<g id=\"node1\" class=\"node\">\n<title>Origin</title>\n<ellipse fill=\"none\" stroke=\"black\" cx=\"72\" cy=\"-234\" rx=\"33.6\" ry=\"18\"/>\n<text text-anchor=\"middle\" x=\"72\" y=\"-230.3\" font-family=\"Times,serif\" font-size=\"14.00\">Origin</text>\n</g>\n<!-- 1 -->\n<g id=\"node2\" class=\"node\">\n<title>1</title>\n<ellipse fill=\"none\" stroke=\"black\" cx=\"27\" cy=\"-162\" rx=\"27\" ry=\"18\"/>\n<text text-anchor=\"middle\" x=\"27\" y=\"-158.3\" font-family=\"Times,serif\" font-size=\"14.00\">1</text>\n</g>\n<!-- Origin&#45;&gt;1 -->\n<g id=\"edge1\" class=\"edge\">\n<title>Origin&#45;&gt;1</title>\n<path fill=\"none\" stroke=\"black\" d=\"M61.56,-216.76C56,-208.11 49.03,-197.27 42.82,-187.6\"/>\n<polygon fill=\"black\" stroke=\"black\" points=\"45.73,-185.67 37.38,-179.15 39.84,-189.45 45.73,-185.67\"/>\n</g>\n<!-- 4 -->\n<g id=\"node3\" class=\"node\">\n<title>4</title>\n<ellipse fill=\"none\" stroke=\"black\" cx=\"117\" cy=\"-162\" rx=\"27\" ry=\"18\"/>\n<text text-anchor=\"middle\" x=\"117\" y=\"-158.3\" font-family=\"Times,serif\" font-size=\"14.00\">4</text>\n</g>\n<!-- Origin&#45;&gt;4 -->\n<g id=\"edge2\" class=\"edge\">\n<title>Origin&#45;&gt;4</title>\n<path fill=\"none\" stroke=\"black\" d=\"M82.44,-216.76C88,-208.11 94.97,-197.27 101.18,-187.6\"/>\n<polygon fill=\"black\" stroke=\"black\" points=\"104.16,-189.45 106.62,-179.15 98.27,-185.67 104.16,-189.45\"/>\n</g>\n<!-- 1&#45;&gt;1 -->\n<g id=\"edge8\" class=\"edge\">\n<title>1&#45;&gt;1</title>\n<path fill=\"none\" stroke=\"black\" d=\"M46.9,-174.43C59.69,-177.68 72,-173.53 72,-162 72,-153.62 65.5,-149.14 57.04,-148.56\"/>\n<polygon fill=\"black\" stroke=\"black\" points=\"56.5,-145.1 46.9,-149.57 57.19,-152.07 56.5,-145.1\"/>\n</g>\n<!-- 4&#45;&gt;4 -->\n<g id=\"edge3\" class=\"edge\">\n<title>4&#45;&gt;4</title>\n<path fill=\"none\" stroke=\"black\" d=\"M136.9,-174.43C149.69,-177.68 162,-173.53 162,-162 162,-153.62 155.5,-149.14 147.04,-148.56\"/>\n<polygon fill=\"black\" stroke=\"black\" points=\"146.5,-145.1 136.9,-149.57 147.19,-152.07 146.5,-145.1\"/>\n</g>\n<!-- 2 -->\n<g id=\"node4\" class=\"node\">\n<title>2</title>\n<ellipse fill=\"none\" stroke=\"black\" cx=\"117\" cy=\"-90\" rx=\"27\" ry=\"18\"/>\n<text text-anchor=\"middle\" x=\"117\" y=\"-86.3\" font-family=\"Times,serif\" font-size=\"14.00\">2</text>\n</g>\n<!-- 4&#45;&gt;2 -->\n<g id=\"edge4\" class=\"edge\">\n<title>4&#45;&gt;2</title>\n<path fill=\"none\" stroke=\"black\" d=\"M117,-143.7C117,-135.98 117,-126.71 117,-118.11\"/>\n<polygon fill=\"black\" stroke=\"black\" points=\"120.5,-118.1 117,-108.1 113.5,-118.1 120.5,-118.1\"/>\n</g>\n<!-- 2&#45;&gt;2 -->\n<g id=\"edge6\" class=\"edge\">\n<title>2&#45;&gt;2</title>\n<path fill=\"none\" stroke=\"black\" d=\"M136.9,-102.43C149.69,-105.68 162,-101.53 162,-90 162,-81.62 155.5,-77.14 147.04,-76.56\"/>\n<polygon fill=\"black\" stroke=\"black\" points=\"146.5,-73.1 136.9,-77.57 147.19,-80.07 146.5,-73.1\"/>\n</g>\n<!-- 3 -->\n<g id=\"node5\" class=\"node\">\n<title>3</title>\n<ellipse fill=\"none\" stroke=\"black\" cx=\"117\" cy=\"-18\" rx=\"27\" ry=\"18\"/>\n<text text-anchor=\"middle\" x=\"117\" y=\"-14.3\" font-family=\"Times,serif\" font-size=\"14.00\">3</text>\n</g>\n<!-- 2&#45;&gt;3 -->\n<g id=\"edge5\" class=\"edge\">\n<title>2&#45;&gt;3</title>\n<path fill=\"none\" stroke=\"black\" d=\"M111.16,-72.41C110.3,-64.51 110.05,-54.85 110.41,-45.94\"/>\n<polygon fill=\"black\" stroke=\"black\" points=\"113.9,-46.18 111.12,-35.96 106.92,-45.68 113.9,-46.18\"/>\n</g>\n<!-- 3&#45;&gt;2 -->\n<g id=\"edge7\" class=\"edge\">\n<title>3&#45;&gt;2</title>\n<path fill=\"none\" stroke=\"black\" d=\"M122.88,-35.96C123.71,-43.83 123.95,-53.37 123.58,-62.19\"/>\n<polygon fill=\"black\" stroke=\"black\" points=\"120.07,-62.18 122.84,-72.41 127.06,-62.69 120.07,-62.18\"/>\n</g>\n</g>\n</svg>\n",
            "text/plain": [
              "<graphviz.sources.Source at 0x7c20a3b56020>"
            ]
          },
          "metadata": {},
          "execution_count": 421
        }
      ]
    },
    {
      "cell_type": "code",
      "source": [
        "#Direct graph of inverse of R\n",
        "R = {(1,1), (2,2), (2,3), (3,2), (4,2), (4,4)}\n",
        "\n",
        "import networkx as nx\n",
        "G = nx.MultiDiGraph()\n",
        "\n",
        "G.add_edge('Origin','1')\n",
        "G.add_edge('Origin','2')\n",
        "for a,b in R:\n",
        "  G.add_edge(b,a)\n",
        "from networkx.drawing import nx_pydot\n",
        "from graphviz import Source\n",
        "\n",
        "nx_pydot.write_dot(G, 'multig.dot')\n",
        "Source.from_file('multig.dot')"
      ],
      "metadata": {
        "colab": {
          "base_uri": "https://localhost:8080/",
          "height": 273
        },
        "id": "2JhMbOGKzbri",
        "outputId": "3605b449-d0e6-4e7a-dc99-520baf493316"
      },
      "execution_count": 422,
      "outputs": [
        {
          "output_type": "execute_result",
          "data": {
            "image/svg+xml": "<?xml version=\"1.0\" encoding=\"UTF-8\" standalone=\"no\"?>\n<!DOCTYPE svg PUBLIC \"-//W3C//DTD SVG 1.1//EN\"\n \"http://www.w3.org/Graphics/SVG/1.1/DTD/svg11.dtd\">\n<!-- Generated by graphviz version 2.43.0 (0)\n -->\n<!-- Title: %3 Pages: 1 -->\n<svg width=\"170pt\" height=\"188pt\"\n viewBox=\"0.00 0.00 170.00 188.00\" xmlns=\"http://www.w3.org/2000/svg\" xmlns:xlink=\"http://www.w3.org/1999/xlink\">\n<g id=\"graph0\" class=\"graph\" transform=\"scale(1 1) rotate(0) translate(4 184)\">\n<title>%3</title>\n<polygon fill=\"white\" stroke=\"transparent\" points=\"-4,4 -4,-184 166,-184 166,4 -4,4\"/>\n<!-- Origin -->\n<g id=\"node1\" class=\"node\">\n<title>Origin</title>\n<ellipse fill=\"none\" stroke=\"black\" cx=\"72\" cy=\"-162\" rx=\"33.6\" ry=\"18\"/>\n<text text-anchor=\"middle\" x=\"72\" y=\"-158.3\" font-family=\"Times,serif\" font-size=\"14.00\">Origin</text>\n</g>\n<!-- 1 -->\n<g id=\"node2\" class=\"node\">\n<title>1</title>\n<ellipse fill=\"none\" stroke=\"black\" cx=\"27\" cy=\"-90\" rx=\"27\" ry=\"18\"/>\n<text text-anchor=\"middle\" x=\"27\" y=\"-86.3\" font-family=\"Times,serif\" font-size=\"14.00\">1</text>\n</g>\n<!-- Origin&#45;&gt;1 -->\n<g id=\"edge1\" class=\"edge\">\n<title>Origin&#45;&gt;1</title>\n<path fill=\"none\" stroke=\"black\" d=\"M61.56,-144.76C56,-136.11 49.03,-125.27 42.82,-115.6\"/>\n<polygon fill=\"black\" stroke=\"black\" points=\"45.73,-113.67 37.38,-107.15 39.84,-117.45 45.73,-113.67\"/>\n</g>\n<!-- 2 -->\n<g id=\"node3\" class=\"node\">\n<title>2</title>\n<ellipse fill=\"none\" stroke=\"black\" cx=\"117\" cy=\"-90\" rx=\"27\" ry=\"18\"/>\n<text text-anchor=\"middle\" x=\"117\" y=\"-86.3\" font-family=\"Times,serif\" font-size=\"14.00\">2</text>\n</g>\n<!-- Origin&#45;&gt;2 -->\n<g id=\"edge2\" class=\"edge\">\n<title>Origin&#45;&gt;2</title>\n<path fill=\"none\" stroke=\"black\" d=\"M82.44,-144.76C88,-136.11 94.97,-125.27 101.18,-115.6\"/>\n<polygon fill=\"black\" stroke=\"black\" points=\"104.16,-117.45 106.62,-107.15 98.27,-113.67 104.16,-117.45\"/>\n</g>\n<!-- 1&#45;&gt;1 -->\n<g id=\"edge8\" class=\"edge\">\n<title>1&#45;&gt;1</title>\n<path fill=\"none\" stroke=\"black\" d=\"M46.9,-102.43C59.69,-105.68 72,-101.53 72,-90 72,-81.62 65.5,-77.14 57.04,-76.56\"/>\n<polygon fill=\"black\" stroke=\"black\" points=\"56.5,-73.1 46.9,-77.57 57.19,-80.07 56.5,-73.1\"/>\n</g>\n<!-- 2&#45;&gt;2 -->\n<g id=\"edge5\" class=\"edge\">\n<title>2&#45;&gt;2</title>\n<path fill=\"none\" stroke=\"black\" d=\"M136.9,-102.43C149.69,-105.68 162,-101.53 162,-90 162,-81.62 155.5,-77.14 147.04,-76.56\"/>\n<polygon fill=\"black\" stroke=\"black\" points=\"146.5,-73.1 136.9,-77.57 147.19,-80.07 146.5,-73.1\"/>\n</g>\n<!-- 4 -->\n<g id=\"node4\" class=\"node\">\n<title>4</title>\n<ellipse fill=\"none\" stroke=\"black\" cx=\"27\" cy=\"-18\" rx=\"27\" ry=\"18\"/>\n<text text-anchor=\"middle\" x=\"27\" y=\"-14.3\" font-family=\"Times,serif\" font-size=\"14.00\">4</text>\n</g>\n<!-- 2&#45;&gt;4 -->\n<g id=\"edge7\" class=\"edge\">\n<title>2&#45;&gt;4</title>\n<path fill=\"none\" stroke=\"black\" d=\"M100.07,-75.83C86.5,-65.27 67.24,-50.3 51.91,-38.37\"/>\n<polygon fill=\"black\" stroke=\"black\" points=\"53.89,-35.48 43.85,-32.11 49.6,-41.01 53.89,-35.48\"/>\n</g>\n<!-- 3 -->\n<g id=\"node5\" class=\"node\">\n<title>3</title>\n<ellipse fill=\"none\" stroke=\"black\" cx=\"117\" cy=\"-18\" rx=\"27\" ry=\"18\"/>\n<text text-anchor=\"middle\" x=\"117\" y=\"-14.3\" font-family=\"Times,serif\" font-size=\"14.00\">3</text>\n</g>\n<!-- 2&#45;&gt;3 -->\n<g id=\"edge6\" class=\"edge\">\n<title>2&#45;&gt;3</title>\n<path fill=\"none\" stroke=\"black\" d=\"M111.16,-72.41C110.3,-64.51 110.05,-54.85 110.41,-45.94\"/>\n<polygon fill=\"black\" stroke=\"black\" points=\"113.9,-46.18 111.12,-35.96 106.92,-45.68 113.9,-46.18\"/>\n</g>\n<!-- 4&#45;&gt;4 -->\n<g id=\"edge3\" class=\"edge\">\n<title>4&#45;&gt;4</title>\n<path fill=\"none\" stroke=\"black\" d=\"M46.9,-30.43C59.69,-33.68 72,-29.53 72,-18 72,-9.62 65.5,-5.14 57.04,-4.56\"/>\n<polygon fill=\"black\" stroke=\"black\" points=\"56.5,-1.1 46.9,-5.57 57.19,-8.07 56.5,-1.1\"/>\n</g>\n<!-- 3&#45;&gt;2 -->\n<g id=\"edge4\" class=\"edge\">\n<title>3&#45;&gt;2</title>\n<path fill=\"none\" stroke=\"black\" d=\"M122.88,-35.96C123.71,-43.83 123.95,-53.37 123.58,-62.19\"/>\n<polygon fill=\"black\" stroke=\"black\" points=\"120.07,-62.18 122.84,-72.41 127.06,-62.69 120.07,-62.18\"/>\n</g>\n</g>\n</svg>\n",
            "text/plain": [
              "<graphviz.sources.Source at 0x7c20a39c5b70>"
            ]
          },
          "metadata": {},
          "execution_count": 422
        }
      ]
    },
    {
      "cell_type": "markdown",
      "source": [
        "#4th Problem\n",
        "\n",
        "---\n",
        "\n"
      ],
      "metadata": {
        "id": "2VBuuuz7pEPa"
      }
    },
    {
      "cell_type": "code",
      "source": [
        "#Given\n",
        "A = {1,2,3}\n",
        "R = {(1,1), (1,2), (2,3), (3,1), (3,3)}\n",
        "S = {(1,2), (1,3), (2,1), (3,3)}\n",
        "\n",
        "AxA = {(x0,y0) for x0 in A for y0 in A}\n",
        "\n",
        "print(\"AxA = \", sorted(AxA))\n",
        "print(\"\")\n",
        "if R.issubset(AxA):\n",
        "  print(\"R is a relation from set A.\")\n",
        "if S.issubset(AxA):\n",
        "  print(\"S is a relation from set A.\")"
      ],
      "metadata": {
        "colab": {
          "base_uri": "https://localhost:8080/"
        },
        "id": "9mhQyKVNp1vW",
        "outputId": "e37de8e7-7e5e-465e-ea8d-2d5d5194dda5"
      },
      "execution_count": 423,
      "outputs": [
        {
          "output_type": "stream",
          "name": "stdout",
          "text": [
            "AxA =  [(1, 1), (1, 2), (1, 3), (2, 1), (2, 2), (2, 3), (3, 1), (3, 2), (3, 3)]\n",
            "\n",
            "R is a relation from set A.\n",
            "S is a relation from set A.\n"
          ]
        }
      ]
    },
    {
      "cell_type": "code",
      "source": [
        "#Union and Intersection of R and S\n",
        "R = {(1,1), (1,2), (2,3), (3,1), (3,3)}\n",
        "S = {(1,2), (1,3), (2,1), (3,3)}\n",
        "\n",
        "print(\"Union of R and S = \",(sorted(R.union(S))))\n",
        "print(\"Intersection of R and S = \",(sorted(R.intersection(S))))\n"
      ],
      "metadata": {
        "colab": {
          "base_uri": "https://localhost:8080/"
        },
        "id": "LPBASEdDqm4c",
        "outputId": "66df0a05-238f-456f-f4bf-27a0fe6c022e"
      },
      "execution_count": 424,
      "outputs": [
        {
          "output_type": "stream",
          "name": "stdout",
          "text": [
            "Union of R and S =  [(1, 1), (1, 2), (1, 3), (2, 1), (2, 3), (3, 1), (3, 3)]\n",
            "Intersection of R and S =  [(1, 2), (3, 3)]\n"
          ]
        }
      ]
    },
    {
      "cell_type": "code",
      "source": [
        "#Complement of R\n",
        "A = {1,2,3}\n",
        "R = {(1,1), (1,2), (2,3), (3,1), (3,3)}\n",
        "\n",
        "AxA = {(x0,y0) for x0 in A for y0 in A }\n",
        "U = AxA\n",
        "\n",
        "def complement(R):\n",
        "  return U-R\n",
        "\n",
        "print(\"Complement of R = \",sorted(complement(R)))"
      ],
      "metadata": {
        "colab": {
          "base_uri": "https://localhost:8080/"
        },
        "id": "R8-dSzAartZ6",
        "outputId": "4c9f6789-5063-42ff-ccaf-19030db81b24"
      },
      "execution_count": 425,
      "outputs": [
        {
          "output_type": "stream",
          "name": "stdout",
          "text": [
            "Complement of R =  [(1, 3), (2, 1), (2, 2), (3, 2)]\n"
          ]
        }
      ]
    },
    {
      "cell_type": "code",
      "source": [
        "#Finding RoS and SoS\n",
        "R = {(1,1), (1,2), (2,3), (3,1), (3,3)}\n",
        "S = {(1,2), (1,3), (2,1), (3,3)}\n",
        "\n",
        "RoS = []\n",
        "for a,b in R:\n",
        "  for c,d in S:\n",
        "    if b==c:\n",
        "      if (a,d) not in RoS:\n",
        "        RoS.append((a,d))\n",
        "print(\"RoS = \",RoS)\n",
        "\n",
        "SoS = []\n",
        "for a,b in S:\n",
        "  for c,d in S:\n",
        "    if b==c:\n",
        "      if (a,d) not in SoS:\n",
        "        SoS.append((a,d))\n",
        "print(\"SoS = \",SoS)"
      ],
      "metadata": {
        "colab": {
          "base_uri": "https://localhost:8080/"
        },
        "id": "Yjq6HJQqs0KF",
        "outputId": "3fc714ff-c3ae-4796-fff9-6d973059b312"
      },
      "execution_count": 426,
      "outputs": [
        {
          "output_type": "stream",
          "name": "stdout",
          "text": [
            "RoS =  [(2, 3), (1, 1), (3, 3), (3, 2), (1, 2), (1, 3)]\n",
            "SoS =  [(1, 1), (3, 3), (1, 3), (2, 2), (2, 3)]\n"
          ]
        }
      ]
    },
    {
      "cell_type": "markdown",
      "source": [
        "#5th Problem\n",
        "\n",
        "---"
      ],
      "metadata": {
        "id": "Lh8qjiabteqk"
      }
    },
    {
      "cell_type": "markdown",
      "source": [
        "**Determining if R is reflexive:**\n",
        "\n",
        "If $A = \\{1, 2, 3\\}$, then $\\{a,a\\} = \\{(1,1), (2,2), (3,3) \\} ∈ R$ for $R$ to be reflexive. However, since $(2,2)$ ∉ $R$, therefore $R$ is not reflexive.\n",
        "\n",
        "**Determining if R is symmetric:**\n",
        "\n",
        "$R$ is symmetric on set $A$ if $\\{a,b\\} ∈ R$, then $\\{b,a\\} ∈ R$. Since $\\{(1,2),(1,3)\\} ∈ R$, but $\\{(2,1),(3,1)\\} ∉ R$, therefore $R$ is anti-symmetric.\n",
        "\n",
        "**Determining if R is transitive:**\n",
        "\n",
        "$R$ is transitive on set $A$ if whenever $aRb$ and $bRc$ and $aRc \\in R$. Since $∀$ $aRb$ and $bRc$ $\\in R, ∃$ $aRc ∈ R$, therefore $R$ is transitive."
      ],
      "metadata": {
        "id": "hAVvXB0QxCkS"
      }
    },
    {
      "cell_type": "code",
      "source": [
        "#Determining if R is reflexive, symmetric, or transitive\n",
        "\n",
        "A = {1,2,3}\n",
        "\n",
        "R = {(1,1), (1,2), (1,3), (3,3)}\n",
        "if reflexive(R,A) is True:\n",
        "  print(\"R is reflexive.\")\n",
        "else:\n",
        "  print(\"R is not reflexive.\")\n",
        "\n",
        "if symmetric(R) is True:\n",
        "  print(\"R is symmetric.\")\n",
        "else:\n",
        "  print(\"R is anti-symmetric.\")\n",
        "\n",
        "if transitive(R) is True:\n",
        "  print(\"R is transitive.\")\n",
        "else:\n",
        "  print(\"R is not transitive.\")\n",
        "print(\"\")\n",
        "\n"
      ],
      "metadata": {
        "colab": {
          "base_uri": "https://localhost:8080/"
        },
        "id": "BYhseNe5VsMa",
        "outputId": "06ebc88b-bb4a-4907-b200-b5f5d10bd383"
      },
      "execution_count": 427,
      "outputs": [
        {
          "output_type": "stream",
          "name": "stdout",
          "text": [
            "R is not reflexive.\n",
            "R is anti-symmetric.\n",
            "R is transitive.\n",
            "\n"
          ]
        }
      ]
    },
    {
      "cell_type": "markdown",
      "source": [
        "**Determining if S is reflexive:**\n",
        "\n",
        "If $A = \\{1, 2, 3\\}$, then $\\{a,a\\} = \\{(1,1), (2,2), (3,3) \\} ∈ S$ for $S$ to be reflexive. Since $(a,a) ∈ S$, therefore $S$ is reflexive.\n",
        "\n",
        "**Determining if S is symmetric:**\n",
        "\n",
        "$S$ is symmetric on set $A$ if $\\{a,b\\} ∈ S$, then $\\{b,a\\} ∈ S$. Since $∀$ $(a,b)$ $∃ (b,a) ∈ S$, therefore $S$ is symmetric.\n",
        "\n",
        "**Determining if S is transitive:**\n",
        "\n",
        "$S$ is transitive on set $A$ if whenever $aRb$ and $bRc$ and $aRc \\in S$. Since $∀$ $aRb$ and $bRc$ $\\in R, ∃$ $aRc ∈ R$, therefore $R$ is transitive."
      ],
      "metadata": {
        "id": "BVcx8K0f01eD"
      }
    },
    {
      "cell_type": "code",
      "source": [
        "#Determining if S is reflexive, symmetric, or transitive\n",
        "\n",
        "A = {1,2,3}\n",
        "\n",
        "S = {(1,1), (1,2), (2,1), (2,2), (3,3)}\n",
        "if reflexive(S,A) is True:\n",
        "  print(\"S is reflexive.\")\n",
        "else:\n",
        "  print(\"S is not reflexive.\")\n",
        "\n",
        "if symmetric(S) is True:\n",
        "  print(\"S is symmetric.\")\n",
        "else:\n",
        "  print(\"S is anti-symmetric.\")\n",
        "\n",
        "if transitive(S) is True:\n",
        "  print(\"S is transitive.\")\n",
        "else:\n",
        "  print(\"S is not transitive.\")\n",
        "print(\"\")\n",
        ""
      ],
      "metadata": {
        "colab": {
          "base_uri": "https://localhost:8080/"
        },
        "id": "z_yYD0MfwlFo",
        "outputId": "45e3655c-738c-4f15-d7e0-5f96aa507a39"
      },
      "execution_count": 428,
      "outputs": [
        {
          "output_type": "stream",
          "name": "stdout",
          "text": [
            "S is reflexive.\n",
            "S is symmetric.\n",
            "S is transitive.\n",
            "\n"
          ]
        }
      ]
    },
    {
      "cell_type": "markdown",
      "source": [
        "**Determining if T is reflexive:**\n",
        "\n",
        "If $A = \\{1, 2, 3\\}$, then $\\{a,a\\} = \\{(1,1), (2,2), (3,3) \\} ∈ T$ for $T$ to be reflexive. However, since $(3,3)$ ∉ $T$, therefore $T$ is not reflexive.\n",
        "\n",
        "**Determining if T is symmetric:**\n",
        "\n",
        "$T$ is symmetric on set $A$ if $\\{a,b\\} ∈ T$, then $\\{b,a\\} ∈ T$. Since $\\{(1,2),(2,3)\\} ∈ T$, but $\\{(2,1),(3,2)\\} ∉ T$, therefore $T$ is anti-symmetric.\n",
        "\n",
        "**Determining if T is transitive:**\n",
        "\n",
        "$T$ is transitive on set $A$ if whenever $aRb$ and $bRc$ and $aRc \\in T$. However, when $(a,b) = (1,2)$ and $(b,c) = (2,3)$, $∄$ $(a,c) ∈ T$. Therefore $T$ is not transitive."
      ],
      "metadata": {
        "id": "G8bFaKem8yWF"
      }
    },
    {
      "cell_type": "code",
      "source": [
        "#Determining if T is reflexive, symmetric, or transitive\n",
        "\n",
        "A = {1,2,3}\n",
        "\n",
        "T = {(1,1), (1,2), (2,2), (2,3)}\n",
        "if reflexive(T,A) is True:\n",
        "  print(\"T is reflexive.\")\n",
        "else:\n",
        "  print(\"T is not reflexive.\")\n",
        "\n",
        "if symmetric(T) is True:\n",
        "  print(\"T is symmetric.\")\n",
        "else:\n",
        "  print(\"T is anti-symmetric.\")\n",
        "\n",
        "if transitive(T) is True:\n",
        "  print(\"T is transitive.\")\n",
        "else:\n",
        "  print(\"T is not transitive.\")"
      ],
      "metadata": {
        "colab": {
          "base_uri": "https://localhost:8080/"
        },
        "id": "2bnLMKTmwoA4",
        "outputId": "4966da11-306c-4d64-a0a3-aa7d1ee4674e"
      },
      "execution_count": 429,
      "outputs": [
        {
          "output_type": "stream",
          "name": "stdout",
          "text": [
            "T is not reflexive.\n",
            "T is anti-symmetric.\n",
            "T is not transitive.\n"
          ]
        }
      ]
    }
  ]
}