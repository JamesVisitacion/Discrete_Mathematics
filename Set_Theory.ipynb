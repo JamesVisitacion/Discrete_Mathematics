{
  "nbformat": 4,
  "nbformat_minor": 0,
  "metadata": {
    "colab": {
      "provenance": []
    },
    "kernelspec": {
      "name": "python3",
      "display_name": "Python 3"
    },
    "language_info": {
      "name": "python"
    }
  },
  "cells": [
    {
      "cell_type": "code",
      "execution_count": null,
      "metadata": {
        "id": "KVvN9EFKTNRs"
      },
      "outputs": [],
      "source": [
        "from matplotlib_venn import venn2, venn2_circles, venn2_unweighted\n",
        "from matplotlib_venn import venn3, venn3_circles, venn3_unweighted\n",
        "from matplotlib import pyplot as plt\n",
        "import pandas as pd\n",
        "%matplotlib inline"
      ]
    },
    {
      "cell_type": "code",
      "source": [
        "def drawVenn2(A,B,labels = ('A', 'B')):\n",
        "    v2=venn2([A,B],set_labels = labels);\n",
        "    v2.get_label_by_id('01').set_text(', '.join(map(str,B-A)))\n",
        "    v2.get_label_by_id('10').set_text(', '.join(map(str,A-B)))\n",
        "    if A&B:\n",
        "        v2.get_label_by_id('11').set_text(', '.join(map(str,A&B)))"
      ],
      "metadata": {
        "id": "1bqRozkMafA5"
      },
      "execution_count": null,
      "outputs": []
    },
    {
      "cell_type": "markdown",
      "source": [
        "#**1. Proving Identities**"
      ],
      "metadata": {
        "id": "SDqY_rDaTnqZ"
      }
    },
    {
      "cell_type": "markdown",
      "source": [
        "$Given:$\n",
        "$A$ and $B$ are sets, $∃x$ such that $(x ∈ A Λ x ∈ B)$\n",
        "\n"
      ],
      "metadata": {
        "id": "ovhBNO8pUahg"
      }
    },
    {
      "cell_type": "markdown",
      "source": [
        "\n",
        "\n",
        "1. $A \\setminus B = A \\cap B^C$\n",
        "\n",
        "$\\textit{Proof:}$\n",
        "\n",
        "By the definition of complement: $B^C = \\mathcal{U} - B$.\n",
        "\n",
        "Getting the intersection of set $A$ with both sides: $A \\cap B^C = A \\cap (\\mathcal{U} - B$), and by the distributive law, the right-hand side is equal to $A \\cap \\mathcal{U} - A \\cap B$.\n",
        "\n",
        "By the domination law: $A \\cap \\mathcal{U} = A$.\n",
        "\n",
        "The set difference of $A$ and $B$ is equal to the set difference of $A$ and the union of $A$ and $B$: $A-B=A -A \\cap B$.\n",
        "\n",
        "Thus, $A \\cap B^C = A - B$.\n",
        "\n",
        "By definition of relative complement, $A\\setminus B = A - B$\n",
        "\n",
        "$\\therefore A\\setminus B = A \\cap B^C$\n",
        "\n",
        "\n",
        "\n",
        "\n",
        "---\n",
        "\n",
        "\n"
      ],
      "metadata": {
        "id": "AyHa38FbT1q8"
      }
    },
    {
      "cell_type": "markdown",
      "source": [
        "2. $B = (B \\cap A) \\cup (B \\cap A^C)$\n",
        "\n",
        "$\\textit{Proof:}$\n",
        "\n",
        "By the distributive law: $(B \\cap A) \\cup (B \\cap A^C) = B \\cup (A \\cap A^C)$.\n",
        "\n",
        "By the the complement law that $A \\cap A^C = \\emptyset$.\n",
        "\n",
        "By the domination law, we have $B \\cup \\emptyset = B$\n",
        "\n",
        "$\\therefore B = (B \\cap A) \\cup (B \\cap A^C)$\n",
        "\n",
        "---\n",
        "\n",
        "\n",
        "\n"
      ],
      "metadata": {
        "id": "oezGZ6JmawQl"
      }
    },
    {
      "cell_type": "markdown",
      "source": [
        "3. $B \\setminus A = B \\cap A^C$\n",
        "\n",
        "$\\textit{Proof:}$\n",
        "\n",
        "By the definition of complement: $A^C = \\mathcal{U} - A$.\n",
        "\n",
        "Getting the intersection of set $B$ with both sides: $B \\cap A^C = B \\cap (\\mathcal{U} - A$), and by the distributive law, the right-hand side is equal to $B \\cap \\mathcal{U} - B \\cap A$.\n",
        "\n",
        "By the domination law states that $B \\cap \\mathcal{U} = B$.\n",
        "\n",
        "The set difference of $B$ and $A$ is equal to the set difference of $B$ and the union of $B$ and $A$: $B-A=B -B \\cap A$.\n",
        "\n",
        "Thus, $B \\cap A^C = B - A$.\n",
        "\n",
        "By definition of relative complement, $B\\setminus A = B - A$\n",
        "\n",
        "$\\therefore B\\setminus A = B \\cap A^C$\n",
        "\n",
        "---\n",
        "\n",
        "\n",
        "\n"
      ],
      "metadata": {
        "id": "l8AQwdLlcBD1"
      }
    },
    {
      "cell_type": "markdown",
      "source": [
        "4. $B \\cup A = B \\cup (A\\cap B^C)$\n",
        "\n",
        "\n",
        "\n",
        "$\\textit{Proof:}$\n",
        "\n",
        "By the distributivite: $B \\cup (A\\cap B^C) = (B \\cup A) \\cap (B \\cup B^C)$.\n",
        "\n",
        "The union of a set and its complement is the universal set:  $B \\cup B^C=\\mathcal{U}$\n",
        "\n",
        "By the domination law: $(B \\cup A) \\cap \\mathcal{U} = B \\cup A$\n",
        "\n",
        "$\\therefore B \\cup A = B \\cup (A\\cap B^C)$\n",
        "\n",
        "\n",
        "---\n",
        "\n",
        "\n",
        "\n"
      ],
      "metadata": {
        "id": "grjtBe_QdUam"
      }
    },
    {
      "cell_type": "markdown",
      "source": [
        "5. $(\\bigcup_{i = 1}^{\\infty} A^C_i)^C = \\bigcap_{i = 1}^{\\infty}A_i$\n",
        "\n",
        "$\\textit{Proof:}$\n",
        "\n",
        "De Morgan's law states that the complement of the union of any number of sets equals the intersection of their complements, thus,  by evaluating $(\\bigcup_{i = 1}^{\\infty} A^C_i)^C$, we get $\\bigcap_{i = 1}^{\\infty}(A_i^C)^C$.\n",
        "\n",
        "By the double negation law, $(A_i^C)^C=A_i$.\n",
        "\n",
        "Thus, $\\bigcap_{i = 1}^{\\infty}(A_i^C)^C=\\bigcap_{i = 1}^{\\infty}A_i$\n",
        "\n",
        "$\\therefore \\bigcup_{i = 1}^{\\infty} A^C_i)^C = \\bigcap_{i = 1}^{\\infty}A_i$\n",
        "\n",
        "\n",
        "\n",
        "---\n",
        "\n",
        "\n"
      ],
      "metadata": {
        "id": "UqhE4P7Ce68G"
      }
    },
    {
      "cell_type": "markdown",
      "source": [
        "6. $|A \\cup B| = |A| + |B| - |A \\cap B|$\n",
        "\n",
        "$\\textit{Proof:}$\n",
        "\n",
        "By defintion, the union of sets $A$ and $B$ is equal to the set of elements that are present in set $A$, in set $B$, or in both the sets $A$ and $B$. When looking for $|A \\cup B|$, the elements in $A \\cap B$ will be counted twice since $A \\cap B$ is contained in both sets $A$ and $B$.\n",
        "\n",
        "$\\therefore$ By subtracting |$A \\cap B$| from $|A|+|B|$, we can get $|A \\cup B|$.\n",
        "\n",
        "---\n",
        "\n",
        "\n",
        "\n"
      ],
      "metadata": {
        "id": "Gcui3tc_8hT6"
      }
    },
    {
      "cell_type": "markdown",
      "source": [
        "#**2. Set and Subsets**"
      ],
      "metadata": {
        "id": "UG0a_nkd8qb4"
      }
    },
    {
      "cell_type": "markdown",
      "source": [
        "$\\textbf{2A}$\n",
        "If $A = \\{2, 3, 4, 5  \\}$, and $B = \\{x \\in \\mathbb{N} |  x \\text{ is even}\\}$. Is $A \\subset B$?\n",
        "\n",
        "By definition, if $A$ and $B$ exists in $\\mathcal{U}$, $A$ is a proper subset of $B$ if **both** conditions are satisfied:\n",
        "\n",
        "*   $A$ is a subset of $B$\n",
        "*   there exists at least one element in $B$ that is not in $A$\n",
        "\n",
        "Since the elements the elements 3 and 5 are not in $B$, the first condition is not satisfied.\n",
        "\n",
        "$\\therefore  A \\not⊂ B$\n",
        "\n"
      ],
      "metadata": {
        "id": "mjTOxgve8moZ"
      }
    },
    {
      "cell_type": "code",
      "source": [
        "#Solution using Python\n",
        "\n",
        "U = {0,1,2,3,4,5} #Note: Solution still holds true even if there are more elements in U.\n",
        "A = {2,3,4,5}\n",
        "B = {2,4,}\n",
        "if (A.issubset(B)):\n",
        "  print(\"A is a proper subset of B.\")\n",
        "else:\n",
        "  print(\"A is not a proper susbset of B.\")\n"
      ],
      "metadata": {
        "colab": {
          "base_uri": "https://localhost:8080/"
        },
        "id": "aL_pMo40A5WQ",
        "outputId": "a2b421f7-da38-4dde-9cba-a07358c022bc"
      },
      "execution_count": null,
      "outputs": [
        {
          "output_type": "stream",
          "name": "stdout",
          "text": [
            "A is not a proper susbset of B.\n"
          ]
        }
      ]
    },
    {
      "cell_type": "markdown",
      "source": [
        "\n",
        "\n",
        "---\n",
        "\n"
      ],
      "metadata": {
        "id": "8YDV-YwDB2kq"
      }
    },
    {
      "cell_type": "markdown",
      "source": [
        "$\\textbf{2B}$\n",
        "Let sets,\n",
        "\n",
        "$\\textbf{A} = \\{ x | x \\in \\mathbb{Z}, 0 \\leq x \\leq 9 \\}$\n",
        "\n",
        "$\\textbf{B} = \\{2,4,6,8\\}$\n",
        "\n",
        "$\\textbf{C} = \\{ 1,3,5,7,9\\}$\n",
        "\n",
        "$\\textbf{D} = \\{ 3,4,5 \\}$\n",
        "\n",
        "Find a set $\\textbf{X}$ that satisfies the following:\n",
        "\n",
        "1. $\\textbf{X} $ and $\\textbf{B}$ are disjoint.\n",
        "\n",
        "2. $\\textbf{X} \\subseteq \\textbf{D}$ but $\\textbf{X} \\nsubseteq \\textbf{B}$.\n",
        "\n",
        "3. $\\textbf{X} \\subseteq \\textbf{A}$ but $\\textbf{X} \\not\\subset \\textbf{C}$\n"
      ],
      "metadata": {
        "id": "boX66uC0B3i-"
      }
    },
    {
      "cell_type": "code",
      "source": [
        "#1\n",
        "\n",
        "A = {0,1,2,3,4,5,6,7,8,9}\n",
        "B = {2,4,6,8}\n",
        "\n",
        "#1. X  and  B  are disjoint\n",
        "X = A-B #We can equate set X to the difference of sets A and C, so that X will not contain any elements from C.\n",
        "print('X =', X)\n",
        "drawVenn2(X,B, labels=('X','B'))"
      ],
      "metadata": {
        "colab": {
          "base_uri": "https://localhost:8080/",
          "height": 298
        },
        "id": "SsCY__VDDqwi",
        "outputId": "48f9e316-4f15-4264-c723-e95122a401bd"
      },
      "execution_count": null,
      "outputs": [
        {
          "output_type": "stream",
          "name": "stdout",
          "text": [
            "X = {0, 1, 3, 5, 7, 9}\n"
          ]
        },
        {
          "output_type": "display_data",
          "data": {
            "text/plain": [
              "<Figure size 640x480 with 1 Axes>"
            ],
            "image/png": "[encoded data removed]"
          },
          "metadata": {}
        }
      ]
    },
    {
      "cell_type": "code",
      "source": [
        "#2\n",
        "\n",
        "B = {2,4,6,8}\n",
        "D = {3,4,5}\n",
        "\n",
        "X = D #We can let the inital set X be equal to set D so that X will be a subset of set D.\n",
        "if (X.issubset(B)):\n",
        "    X = B-X\n",
        "drawVenn2(D,X, labels = ('D', 'X'))\n",
        "print('X =', X)"
      ],
      "metadata": {
        "colab": {
          "base_uri": "https://localhost:8080/",
          "height": 429
        },
        "id": "3Fho9L7HFx2c",
        "outputId": "20042f95-8256-4260-fa0e-1f34a5e8cd18"
      },
      "execution_count": null,
      "outputs": [
        {
          "output_type": "stream",
          "name": "stdout",
          "text": [
            "X = {3, 4, 5}\n"
          ]
        },
        {
          "output_type": "display_data",
          "data": {
            "text/plain": [
              "<Figure size 640x480 with 1 Axes>"
            ],
            "image/png": "[encoded data removed]"
          },
          "metadata": {}
        }
      ]
    },
    {
      "cell_type": "code",
      "source": [
        "#3\n",
        "\n",
        "A = {0,1,2,3,4,5,6,7,8,9}\n",
        "C = {1,3,5,7,9}\n",
        "X = A-C #We can equate set X to the difference of sets A and C, so that X will be a subset of A and will not contain any elements from C, therefore it cannot be a proper subset of C.\n",
        "\n",
        "print('X =', X)\n",
        "drawVenn2(A,X, labels=('A','X'))"
      ],
      "metadata": {
        "colab": {
          "base_uri": "https://localhost:8080/",
          "height": 427
        },
        "id": "XtTOH9sXIE0Q",
        "outputId": "247a6b8e-55c6-4c59-9328-73221aa206b7"
      },
      "execution_count": null,
      "outputs": [
        {
          "output_type": "stream",
          "name": "stdout",
          "text": [
            "X = {0, 2, 4, 6, 8}\n"
          ]
        },
        {
          "output_type": "display_data",
          "data": {
            "text/plain": [
              "<Figure size 640x480 with 1 Axes>"
            ],
            "image/png": "[encoded data removed]"
          },
          "metadata": {}
        }
      ]
    },
    {
      "cell_type": "markdown",
      "source": [
        "\n",
        "\n",
        "---\n",
        "\n"
      ],
      "metadata": {
        "id": "BKNPaENwTucV"
      }
    },
    {
      "cell_type": "markdown",
      "source": [
        "#**3. Set Operations**\n",
        "\n",
        "$\\text{Given:}$\n",
        "\n",
        "$\\textbf{U} = \\{1,2,3,4,5\\}$\n",
        "\n",
        "$\\textbf{A} = \\{1,2,3,4,5\\}$\n",
        "\n",
        "$\\textbf{B} = \\{4,5,6,7\\}$\n",
        "\n",
        "$\\textbf{C} = \\{5,6,7,8,9\\}$\n",
        "\n",
        "$\\textbf{D} = \\{1,3,5,7,9\\}$\n",
        "\n",
        "$\\textbf{E} = \\{2,4,6,8\\}$\n",
        "\n",
        "$\\textbf{F} = \\{1,5,9\\}$"
      ],
      "metadata": {
        "id": "d3UtlMGC0LzM"
      }
    },
    {
      "cell_type": "markdown",
      "source": [
        "$\\textbf{C} \\oplus \\textbf{D}$:\n",
        "$(C - D) \\cup (D - C) = \\{6, 8\\} \\cup \\{1, 3\\} = \\{1, 3, 6, 8\\}$\n",
        "\n",
        "$\\textbf{A} \\backslash \\textbf{B}$:\n",
        "$A - B = \\{1, 2, 3\\}$\n",
        "\n",
        "$\\textbf{B} \\backslash \\textbf{A}$:\n",
        "$B - A = \\{6, 7\\}$\n",
        "\n",
        "$\\textbf{E} \\oplus \\textbf{F}$:\n",
        "$(E - F) \\cup (D - C) = \\{2, 4, 6, 8\\} \\cup \\{1, 5, 9\\} = \\{1, 2, 4, 5, 6, 8, 9\\}$"
      ],
      "metadata": {
        "id": "rvI_XtgH0ovT"
      }
    },
    {
      "cell_type": "code",
      "source": [
        "#Solution using Python\n",
        "\n",
        "U = {1,2,3,4,5}\n",
        "A = {1,2,3,4,5}\n",
        "B = {4,5,6,7}\n",
        "C = {5,6,7,8,9}\n",
        "D = {1,3,5,7,9}\n",
        "E = {2,4,6,8}\n",
        "F = {1,5,9}\n",
        "\n",
        "print(C ^ D)\n",
        "print(A - B)\n",
        "print(B - A)\n",
        "print(E ^ F)"
      ],
      "metadata": {
        "colab": {
          "base_uri": "https://localhost:8080/"
        },
        "id": "RX27WI0U17SL",
        "outputId": "6689ac67-17fc-42ad-be5b-17cc9a7d764a"
      },
      "execution_count": null,
      "outputs": [
        {
          "output_type": "stream",
          "name": "stdout",
          "text": [
            "{1, 3, 6, 8}\n",
            "{1, 2, 3}\n",
            "{6, 7}\n",
            "{1, 2, 4, 5, 6, 8, 9}\n"
          ]
        }
      ]
    },
    {
      "cell_type": "markdown",
      "source": [
        "\n",
        "\n",
        "---\n",
        "\n"
      ],
      "metadata": {
        "id": "0LHDOweW2OL0"
      }
    },
    {
      "cell_type": "markdown",
      "source": [
        "#**4. Finite Sets and The Counting Principles**\n",
        "\n"
      ],
      "metadata": {
        "id": "LpLwJUTsa_hV"
      }
    },
    {
      "cell_type": "markdown",
      "source": [
        "$\\textbf{4A}$ In a Survey of 120 People, it was found that:\n",
        "\n",
        "\n",
        "*   65 read Newsweek Magazine\n",
        "*   45 read Times Magazine\n",
        "\n",
        "*   42 read Fortune Magazine\n",
        "*   20 read both Newsweek and Time\n",
        "\n",
        "*   25 read both Newsweek and Fortune\n",
        "*   15 read both Times and Fortune\n",
        "\n",
        "\n",
        "*   8 read all three magazines"
      ],
      "metadata": {
        "id": "uZtvuKabso5t"
      }
    },
    {
      "cell_type": "markdown",
      "source": [
        "$\\text{Given:}$\n",
        "\n",
        "$\\mathcal{|U|} = 120$\n",
        "\n",
        "$Newsweek \\textbf{(|N|)} = 65$\n",
        "\n",
        "$Times \\textbf{(|T|)} = 45$\n",
        "\n",
        "$Fortune \\textbf{(|F|)} = 42$\n",
        "\n",
        "$|N \\cap F| = 20$\n",
        "\n",
        "$|N \\cap T| = 25$\n",
        "\n",
        "$|T \\cap F| = 20$\n",
        "\n",
        "$|N \\cap T \\cap F| = 8$\n",
        "\n"
      ],
      "metadata": {
        "id": "miqr6ZL7lTnV"
      }
    },
    {
      "cell_type": "markdown",
      "source": [
        "Finding the number of people who have read at $\\textbf{\"at least 1\"}$ magazine:\n",
        "\n",
        "$ |N \\cup T \\cup F|$\n",
        "$= |N| + |T| + |F| - |N \\cap T| - |N \\cap F| - |T \\cap F| + |N \\cap T \\cap F|$\n",
        "$= 65 + 45 + 42 - 20 - 25 - 15 + 8$\n",
        "$=\\textbf{100}$"
      ],
      "metadata": {
        "id": "MNZq9ulkmXDQ"
      }
    },
    {
      "cell_type": "markdown",
      "source": [
        "Finding the number of people who have read $\\textbf{\"exactly 1\"}$ magazine:\n",
        "\n",
        "$\\text{Newsweek only:}$\n",
        "$|N| - |N \\cap T| - |N \\cap F|  + |N \\cap T \\cap F|$\n",
        "$= 65 - 20 - 25  + 8$\n",
        "$=\\textbf{28}$\n",
        "\n",
        "$\\text{Times only:}$\n",
        "$|T| - |N \\cap T| - |T \\cap F|  + |N \\cap T \\cap F|$\n",
        "$= 45 - 20 - 15  + 8$\n",
        "$=\\textbf{18}$\n",
        "\n",
        "$\\text{Fortune only:}$\n",
        "$|F| - |N \\cap F| - |T \\cap F|  + |N \\cap T \\cap F|$\n",
        "$= 42 - 25 - 15  + 8$\n",
        "$=\\textbf{10}$"
      ],
      "metadata": {
        "id": "fo3gj93WmZMe"
      }
    },
    {
      "cell_type": "markdown",
      "source": [
        "Finding the number of people who have read $\\textbf{\"exactly 2\"}$ magazine:\n",
        "\n",
        "$\\text{Newsweek and Times:}$\n",
        "$|N \\cap T| - |N \\cap T \\cap F|$\n",
        "$= 20 - 8$\n",
        "$=\\textbf{12}$\n",
        "\n",
        "$\\text{Newsweek and Fortune:}$\n",
        "$|N \\cap F| - |N \\cap T \\cap F|$\n",
        "$= 25 - 8$\n",
        "$=\\textbf{17}$\n",
        "\n",
        "$\\text{Times and Fortune:}$\n",
        "$|T \\cap F| - |N \\cap T \\cap F|$\n",
        "$= 15 - 8$\n",
        "$=\\textbf{7}$"
      ],
      "metadata": {
        "id": "gtxfT_W7oEah"
      }
    },
    {
      "cell_type": "code",
      "source": [
        "venn3_unweighted(subsets=(28,18,12,10,17,7,8),\n",
        "      set_labels=('Newsweek = 65', 'Times = 45', 'Fortune = 42'),\n",
        "      set_colors=(\"red\", \"orange\", \"blue\"),alpha=0.5)\n",
        "plt.title(\"Magazines\")\n",
        "plt.show()"
      ],
      "metadata": {
        "colab": {
          "base_uri": "https://localhost:8080/",
          "height": 431
        },
        "id": "5qeGglGaYKQ1",
        "outputId": "85f0d1e0-d8eb-45ad-f300-2095502e9466"
      },
      "execution_count": null,
      "outputs": [
        {
          "output_type": "display_data",
          "data": {
            "text/plain": [
              "<Figure size 640x480 with 1 Axes>"
            ],
            "image/png": "[encoded data removed]"
          },
          "metadata": {}
        }
      ]
    },
    {
      "cell_type": "markdown",
      "source": [
        "\n",
        "\n",
        "---\n",
        "\n"
      ],
      "metadata": {
        "id": "aT3MB8Yas8no"
      }
    },
    {
      "cell_type": "markdown",
      "source": [
        "$\\textbf{4B}$ In a survey of 25 new cars being sold at a local auto dealer was conducted to see which of the three popular options: air conditioning, denoted as **A**; radio, denoted as **R**; and power windows, denoted as **W** were installed. The survey found that: 15 had A, 12 had R, 11 had W, 5 had A and W, 9 had A and R, 4 had R and\n",
        "W. Only 3 had the three options."
      ],
      "metadata": {
        "id": "HvoIXbVMrhQn"
      }
    },
    {
      "cell_type": "markdown",
      "source": [
        "$\\text{Given:}$\n",
        "\n",
        "$\\mathcal{|U|} = 25$\n",
        "\n",
        "$|A| = 15$\n",
        "\n",
        "$|R| = 12$\n",
        "\n",
        "$|W| = 11$\n",
        "\n",
        "$|A \\cap W| = 5$\n",
        "\n",
        "$|A \\cap R| = 9$\n",
        "\n",
        "$|R \\cap W| = 4$\n",
        "\n",
        "$|A \\cap R \\cap W| = 3$"
      ],
      "metadata": {
        "id": "WRHzg6LVuToR"
      }
    },
    {
      "cell_type": "markdown",
      "source": [
        "Finding the number of cars with W only:\n",
        "$|W| - |A \\cap W| - |R \\cap W| + |A \\cap R \\cap W| = 11 - 5 - 4 + 3 = \\textbf{5}$\n",
        "\n",
        "Finding the number of cars with A only.\n",
        "$|A| - |A \\cap W| - |A \\cap R| + |A \\cap R \\cap W| = 15 - 5 - 9 + 3 = \\textbf{4}$\n",
        "\n",
        "Finding the number of cars with R only:\n",
        "$|R| - |A \\cap R| - |R \\cap W| + |A \\cap R \\cap W| = 12 - 9 - 4 + 3 =\\textbf{2}$\n",
        "\n",
        "Finding the number of cars with both R and W but not A:\n",
        "$|R \\cap W| - |A \\cap R \\cap W| = 4 - 3 = \\textbf{1}$\n",
        "\n",
        "Finding the number of cars with both A and R but not W:\n",
        "$|A \\cap R| - |A \\cap R \\cap W| = 9 - 3 = \\textbf{6}$\n",
        "\n",
        "Finding the number of cars with both A and W but not R:\n",
        "$|A \\cap W| - |A \\cap R \\cap W| = 5 - 3 = \\textbf{2}$\n",
        "\n",
        "Finding the number of cars with only one of the options:\n",
        "$|A \\text{ only }| + |W \\text{ only }| + |R \\text{ only }| = 5 + 4 + 2 = \\textbf{11}$\n",
        "\n",
        "Finding the number of cars with at least one option:\n",
        "$|A \\cup R \\cup W| = |A| + |R| + |W| - |A \\cap W| - |A \\cap R| - |R \\cap W| + |A \\cap R \\cap W| = 15 + 11 + 12 - 5 - 9 - 4 + 3 = \\textbf{23}$\n",
        "\n",
        "Finding the number of cars with none of the Options:\n",
        "$|\\mathcal{U}| - |A \\cup R \\cup W| = 25 - 23 = \\textbf{2}$"
      ],
      "metadata": {
        "id": "zJVJPLXFtQpl"
      }
    },
    {
      "cell_type": "code",
      "source": [
        "venn3_unweighted(subsets=(4,2,6,5,2,1,3),\n",
        "      set_labels=('Air conditioning = 15', 'Radio = 12', 'Power Windows = 11'),\n",
        "      set_colors=(\"yellow\", \"blue\", \"green\"),alpha=0.5)\n",
        "plt.title(\"Cars\")\n",
        "plt.show()"
      ],
      "metadata": {
        "colab": {
          "base_uri": "https://localhost:8080/",
          "height": 431
        },
        "id": "U5JI_620ySQU",
        "outputId": "1e642ef8-ddd7-4be2-e690-226844da0ff7"
      },
      "execution_count": null,
      "outputs": [
        {
          "output_type": "display_data",
          "data": {
            "text/plain": [
              "<Figure size 640x480 with 1 Axes>"
            ],
            "image/png": "[encoded data removed]"
          },
          "metadata": {}
        }
      ]
    }
  ]
}